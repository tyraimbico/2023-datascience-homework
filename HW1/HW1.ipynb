{
 "cells": [
  {
   "cell_type": "markdown",
   "metadata": {
    "id": "MH6d4w6M9Ven"
   },
   "source": [
    "# Introduction to Data Science – Homework 1\n",
    "*COMP 5360 / MATH 4100, University of Utah, http://datasciencecourse.net/*\n",
    "\n",
    "Due: Friday, January 21, 11:59pm.\n",
    "\n",
    "This homework is designed to practice the skills we learned in up until Lecture 3: working with loops, conditions, functions, and the built-in Python data structures. Make sure to go through the lecture again in case you have any troubles.\n",
    "\n",
    "**Note: You are allowed to use built-in Python functions such as `len` and `range` etc. However, do not use functions that will solve the exercise entirely such as `reverse` to reverse a list or `sum` to sum a list.**\n",
    "\n",
    "**Note: You may not use higher-level library functions but should implement everything using functions, loops, and conditions.**"
   ]
  },
  {
   "cell_type": "markdown",
   "metadata": {
    "id": "Rl_mJZqA9Vep"
   },
   "source": [
    "## Your Data\n",
    "Fill out the following information: \n",
    "\n",
    "*First Name:* Tyra  \n",
    "*Last Name:* Imbico  \n",
    "*E-mail:* tyra.imbico@utah.edu  \n",
    "*UID:* u1143916 \n"
   ]
  },
  {
   "cell_type": "markdown",
   "metadata": {
    "id": "Ji-nFi-99Ver"
   },
   "source": [
    "## Problem 1: Largest Element\n",
    "\n",
    "Write a function that returns the largest element in a list. You can assume the list has at least one element."
   ]
  },
  {
   "cell_type": "code",
   "execution_count": null,
   "metadata": {
    "id": "wr1jIaP59Ves"
   },
   "outputs": [],
   "source": [
    "# your code"
   ]
  },
  {
   "cell_type": "code",
   "execution_count": null,
   "metadata": {
    "id": "HVIPPmuP9Vet"
   },
   "outputs": [],
   "source": [
    "print(get_largest_element([-13, -860, 25, -29, 17, 999, 69, 128, -12, 0, 18]))"
   ]
  },
  {
   "cell_type": "markdown",
   "metadata": {
    "id": "ohrWTVIt9Veu"
   },
   "source": [
    "## Problem 2: Reverse List\n",
    "\n",
    "Write a function `reverse` that takes a list as a parameter and reverses it.\n",
    "\n",
    "You need to implement two versions of the function: a version with element-wise processing, and another version using the list comprehension way."
   ]
  },
  {
   "cell_type": "code",
   "execution_count": null,
   "metadata": {
    "id": "zr-oNO5H9Vev"
   },
   "outputs": [],
   "source": [
    "# your code"
   ]
  },
  {
   "cell_type": "code",
   "execution_count": null,
   "metadata": {
    "id": "2Bps9lz99Vev"
   },
   "outputs": [],
   "source": [
    "# call your function with a couple of different lists and print the results here\n",
    "print(reverse([10, 9, 8, 7, 6, 5]))\n",
    "print(reverse([\"Tony\", \"Steve\", \"Bruce\", \"Chris\", \"Scarlett\"]))\n",
    "print(reverse([5, 6, 7, \"Tony\", \"Steve\"]))"
   ]
  },
  {
   "cell_type": "code",
   "execution_count": null,
   "metadata": {
    "id": "OYRLesZg9Vew"
   },
   "outputs": [],
   "source": [
    "print(reverse_comprehension([10, 9, 8, 7, 6, 5]))\n",
    "print(reverse_comprehension([\"Tony\", \"Steve\", \"Bruce\", \"Chris\", \"Scarlett\"]))\n",
    "print(reverse_comprehension([5, 6, 7, \"Tony\", \"Steve\"]))"
   ]
  },
  {
   "cell_type": "markdown",
   "metadata": {
    "id": "6Jcug3z09Vex"
   },
   "source": [
    "## Problem 3: Combining List\n",
    "\n",
    "Write a function that combines two lists by alternatingly taking elements, e.g. [a,b,c], [1,2,3] → [a,1,b,2,c,3].\n",
    "In case of two lists of different length, the result should be [a,b,c,d],[1,2]=>[a,1,b,2,c,d], i.e., the elements of the longer list are appended at the end."
   ]
  },
  {
   "cell_type": "code",
   "execution_count": null,
   "metadata": {
    "id": "F5NHxrtB9Vey"
   },
   "outputs": [],
   "source": [
    "# your code"
   ]
  },
  {
   "cell_type": "code",
   "execution_count": null,
   "metadata": {
    "id": "XTcxZt1S9Vey"
   },
   "outputs": [],
   "source": [
    "# call your function with a couple of different lists and print the results here\n",
    "print(combine_list([7,8,9,10], ['a', 'A', 'b', 'B', 'c', 'C']))\n",
    "print()\n",
    "print(combine_list([1,2,3,4,5,6], ['a', 'b', 'A', 'B']))"
   ]
  },
  {
   "cell_type": "markdown",
   "metadata": {
    "id": "yxKmpVQd9Vez"
   },
   "source": [
    "## Problem 4: Numbers to Digits\n",
    "\n",
    "Write a function `num_to_digits` that takes a number and returns a list of its digits. e.g. 789456 → [7, 8, 9, 4, 5, 6]\n",
    "\n",
    "You need to implement two versions of the function: a version with element-wise processing, and another version using the list comprehension way."
   ]
  },
  {
   "cell_type": "code",
   "execution_count": null,
   "metadata": {
    "id": "NG72kC6t9Ve1"
   },
   "outputs": [],
   "source": [
    "# your code"
   ]
  },
  {
   "cell_type": "code",
   "execution_count": null,
   "metadata": {
    "id": "3pjI4Gut9Ve2"
   },
   "outputs": [],
   "source": [
    "# call your function with a couple of different numbers and print the results here\n",
    "print(num_to_digits(682357))\n",
    "print(num_to_digits(1239710845102934102934))\n",
    "print()\n",
    "print(num_to_digits_comprehension(682357))\n",
    "print(num_to_digits_comprehension(1239710845102934102934))"
   ]
  },
  {
   "cell_type": "markdown",
   "metadata": {
    "id": "5n7BxHMQ9Ve3"
   },
   "source": [
    "## Problem 5: Product\n",
    "\n",
    "Write three functions that compute the product of the numbers in a list. The first function should use a for-loop, the second a while-loop and the third should use recursion.\n",
    "\n",
    "You need to implement two versions of the function using recursion: a version copying the list when passing the argument, and another version not copying the list when passing the argument.\n",
    "\n",
    "*Hint 1: Passing a slice of the list as an argument will copy the list.*\n",
    "\n",
    "*Hint 2: A function may need more than one argument, but you should allow the function to be called with only one argument given.*"
   ]
  },
  {
   "cell_type": "code",
   "execution_count": null,
   "metadata": {
    "id": "-PysUUrU9Ve4"
   },
   "outputs": [],
   "source": [
    "# your code"
   ]
  },
  {
   "cell_type": "code",
   "execution_count": null,
   "metadata": {
    "id": "79pC87cC9Ve5"
   },
   "outputs": [],
   "source": [
    "# call your function with a couple of different lists and print the results here\n",
    "list1 = range(9)\n",
    "list2 = [1, 6, 2, 2, -2, 5, 9, 3, 7, -4, 9]\n",
    "list3 = [1, 8, 2, 3, 3, 9, 1, 8, -2, 3]\n",
    "list4 = [3, 6, 9, -3, 2, 7, 6, 0, -9]\n",
    "\n",
    "print(multiply_for(list1), multiply_while(list1), multiply_recursive(list1), multiply_recursive_no_copy(list1))\n",
    "print()\n",
    "print(multiply_for(list2), multiply_while(list2), multiply_recursive(list2), multiply_recursive_no_copy(list2))\n",
    "print()\n",
    "print(multiply_for(list3), multiply_while(list3), multiply_recursive(list3), multiply_recursive_no_copy(list3))\n",
    "print()\n",
    "print(multiply_for(list4), multiply_while(list4), multiply_recursive(list4), multiply_recursive_no_copy(list4))"
   ]
  },
  {
   "cell_type": "markdown",
   "metadata": {
    "id": "_5KdFNEG9Ve5"
   },
   "source": [
    "## Problem 6: Filtering\n",
    "\n",
    "Write a function `filter_above` that filters out elements from the **integer** list that are above a certain threshold. You may assume that there is at least one element left in the list after filtering. \n",
    "\n",
    "For example, aftering filtering out elements above 2 from the list [3,-2,-3,1,6,0], you get the output [-2,-3,1,0]."
   ]
  },
  {
   "cell_type": "code",
   "execution_count": null,
   "metadata": {
    "id": "RR6AVB7h9Ve6"
   },
   "outputs": [],
   "source": [
    "# your code"
   ]
  },
  {
   "cell_type": "code",
   "execution_count": null,
   "metadata": {
    "id": "lMvJaf9f9Ve7"
   },
   "outputs": [],
   "source": [
    "# call your function with a couple of different n and print the results here\n",
    "print(filter_above([7,-6,4,1,0,-9], 0))\n",
    "print(filter_above([9,-2,1,8,2,18,-8,3], 6))\n",
    "print(filter_above([5,5,5,5,5,5,5,5],5))"
   ]
  },
  {
   "cell_type": "markdown",
   "metadata": {
    "id": "EGYlBRFG9Ve7"
   },
   "source": [
    "## Problem 7: Fibonacci Sequence\n",
    "\n",
    "Write a function that takes a number `n` and an empty array that writes the first `n` numbers of the [Fibonacci Sequence](https://en.wikipedia.org/wiki/Fibonacci_number) into the empty array. Print the array. \n",
    "\n",
    "The Fibonnaci Sequnece is the sequence where every number after the first two is the sum of the previous two numbers, i.e.,\n",
    "\n",
    "1, 1, 2, 3, 5, 8, 13, 21, 34, 55, ..."
   ]
  },
  {
   "cell_type": "code",
   "execution_count": null,
   "metadata": {
    "id": "KLhYmYjw9Ve8"
   },
   "outputs": [],
   "source": [
    "# your code  "
   ]
  },
  {
   "cell_type": "code",
   "execution_count": null,
   "metadata": {
    "id": "D0Ben5UQ9Ve9"
   },
   "outputs": [],
   "source": [
    "# call your function with a couple of different n and print the results here\n",
    "sequence = []\n",
    "fibonnacci(17, sequence)\n",
    "print(sequence)  "
   ]
  },
  {
   "cell_type": "markdown",
   "metadata": {
    "id": "6ycInDlR9Ve9"
   },
   "source": [
    "# Problem 8: Moving Attendance Averages\n",
    "\n",
    "Write a function `moving_average` that takes a list of daily attendance values, and computes a moving average over every consecutive `k` days. Some days will be missing measurements and will instead have the value `0`.\n",
    "\n",
    "**Caveats:**\n",
    "* The days missing measurements should be included in your `k` day window, but should not affect the average.\n",
    "  * e.g.`moving_average([1,0,2],3)` should return `[1.5]`\n",
    "* If all days in a window are missing measurements then the average should also have the value `0`.\n",
    "  * e.g. `moving_average([0, 0, 2], 2)` should return `[0, 2]`\n",
    "* Only compute averages as long as you have enough data points to fill the window.\n",
    "  * e.g. `moving_average([1,2,3,4,5,6,7,8],7)` should return a list of length two.\n",
    "  * e.g. `moving_average([1,2,3,4,5],2)` should return a list of length 4.\n",
    "  * e.g. `moving_average([1,2,3], 4)` should return an empty list.\n",
    "\n",
    "You can use these as example lists, but make sure that your algorithm works on other lists/windows."
   ]
  },
  {
   "cell_type": "code",
   "execution_count": null,
   "metadata": {
    "id": "qyQv0Ms19Ve-"
   },
   "outputs": [],
   "source": [
    "# your code "
   ]
  },
  {
   "cell_type": "markdown",
   "metadata": {
    "id": "-If3GsvL9Ve_"
   },
   "source": [
    "### From provided examples:"
   ]
  },
  {
   "cell_type": "code",
   "execution_count": null,
   "metadata": {
    "id": "Aq9L7jCm9Ve_"
   },
   "outputs": [],
   "source": [
    "print('Computed Averages: ' + str(moving_average([87,0,92],3)), 'Expected: [89.5]')\n",
    "print('Computed Averages: ' + str(moving_average([0, 0, 53], 2)), 'Expected: [0, 53.0]')\n",
    "print('Length of List: ' + str(len(moving_average([81,72,53,94,65,76,97,88],5))), 'Expected Length: 4')\n",
    "print('Length of List: ' + str(len(moving_average([91,92,83,64,75],3))), 'Expected Length: 3')\n",
    "print('Length of List: ' + str(len(moving_average([81,82,76],3))), 'Expected Length: 1')"
   ]
  },
  {
   "cell_type": "markdown",
   "metadata": {
    "id": "SN5hbWM59Ve_"
   },
   "source": [
    "### Other Examples:"
   ]
  },
  {
   "cell_type": "code",
   "execution_count": null,
   "metadata": {
    "id": "QUlq4Qxa9VfA"
   },
   "outputs": [],
   "source": [
    "student_1 = range(17)"
   ]
  },
  {
   "cell_type": "code",
   "execution_count": null,
   "metadata": {
    "id": "iNMtJydP9VfA"
   },
   "outputs": [],
   "source": [
    "student_2 = [75,83,0,95,92,0]"
   ]
  },
  {
   "cell_type": "code",
   "execution_count": null,
   "metadata": {
    "id": "cJdpAIz49VfB"
   },
   "outputs": [],
   "source": [
    "student_3 = [77,0,0,0,68,60,70,0,92]"
   ]
  },
  {
   "cell_type": "code",
   "execution_count": null,
   "metadata": {
    "id": "TQekdAqV9VfB"
   },
   "outputs": [],
   "source": [
    "student_4 = [81,72,93]"
   ]
  },
  {
   "cell_type": "code",
   "execution_count": null,
   "metadata": {
    "id": "9y0XuLyh9VfC"
   },
   "outputs": [],
   "source": [
    "student_5 = [0, 0, 0, 62]"
   ]
  },
  {
   "cell_type": "code",
   "execution_count": null,
   "metadata": {
    "id": "ai2zsY7X9VfD"
   },
   "outputs": [],
   "source": [
    "student_6 = []"
   ]
  },
  {
   "cell_type": "code",
   "execution_count": null,
   "metadata": {
    "id": "0i-LsPMk9VfE"
   },
   "outputs": [],
   "source": [
    "print(moving_average(student_1, 8))"
   ]
  },
  {
   "cell_type": "code",
   "execution_count": null,
   "metadata": {
    "id": "ulr2mV3z9VfE"
   },
   "outputs": [],
   "source": [
    "print(moving_average(student_2, 2))\n",
    "print(moving_average(student_2, 3))"
   ]
  },
  {
   "cell_type": "code",
   "execution_count": null,
   "metadata": {
    "id": "R1plsoR39VfE"
   },
   "outputs": [],
   "source": [
    "print(moving_average(student_3, 2))\n",
    "print(moving_average(student_3, 3))\n",
    "print(moving_average(student_3, 4))"
   ]
  },
  {
   "cell_type": "code",
   "execution_count": null,
   "metadata": {
    "id": "mmipCeK69VfF",
    "scrolled": true
   },
   "outputs": [],
   "source": [
    "print(moving_average(student_4, 1))\n",
    "print(moving_average(student_4, 2))\n",
    "print(moving_average(student_4, 3))\n",
    "print(moving_average(student_4, 4))"
   ]
  },
  {
   "cell_type": "code",
   "execution_count": null,
   "metadata": {
    "id": "VdKFZJ249VfF",
    "scrolled": false
   },
   "outputs": [],
   "source": [
    "print(moving_average(student_5, 1))\n",
    "print(moving_average(student_5, 2))\n",
    "print(moving_average(student_5, 3))\n",
    "print(moving_average(student_5, 4))"
   ]
  },
  {
   "cell_type": "code",
   "execution_count": null,
   "metadata": {
    "id": "xnSCyB4W9VfG",
    "scrolled": true
   },
   "outputs": [],
   "source": [
    "print(moving_average(student_6, 1))\n",
    "print(moving_average(student_6, 7))"
   ]
  }
 ],
 "metadata": {
  "anaconda-cloud": {},
  "colab": {
   "provenance": []
  },
  "kernelspec": {
   "display_name": "Python 3 (ipykernel)",
   "language": "python",
   "name": "python3"
  },
  "language_info": {
   "codemirror_mode": {
    "name": "ipython",
    "version": 3
   },
   "file_extension": ".py",
   "mimetype": "text/x-python",
   "name": "python",
   "nbconvert_exporter": "python",
   "pygments_lexer": "ipython3",
   "version": "3.9.16"
  }
 },
 "nbformat": 4,
 "nbformat_minor": 1
}
